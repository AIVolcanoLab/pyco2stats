{
 "cells": [
  {
   "cell_type": "markdown",
   "id": "41e00489-0179-44f9-afed-2adbffc5d0f5",
   "metadata": {},
   "source": [
    "# Using pyco2stats: Sinclair Method"
   ]
  },
  {
   "cell_type": "markdown",
   "id": "b7ff46a0-e563-4797-adb1-10b21d1c8a2a",
   "metadata": {},
   "source": [
    "## Interactive Implementation of the Sinclair Method for Population Partitioning\n",
    "\n",
    "The **Sinclair method**, originally introduced by Sinclair (1974), is a well-established statistical procedure used to partition datasets of non-Gaussian, polymodal values into two or more log-normal subpopulations. Traditionally, this partitioning is achieved through the graphical analysis of a cumulative probability plot of the data. The method proves particularly useful in fields like geochemistry for separating a background population from one or more anomalous populations that may indicate mineralization or degassing.\n",
    "\n",
    "This Jupyter notebook presents an interactive implementation of the Sinclair method, specifically as described by Chiodini et al. (1998), utilizing the `pco2stats` library. Recognizing that data complexity varies, this tool is designed to allow managing up to four distinct populations. For each potential population, the user can interactively define its estimated log-mean, log-standard deviation, and its fraction (or mixing proportion) of the total dataset. The main aim of this interactive approach is to visually and statistically find the combination of log-normal populations whose cumulative distribution best fits the observed distribution of the raw data.\n",
    "\n",
    "---\n",
    "\n",
    "### References\n",
    "\n",
    "* Chiodini, G., Frondini, F., Cardellini, C., Granieri, F., Tranne, C. A., Ventura, G., & Caliro, S. (1998). CO2 degassing in the Alban Hills volcanic area, Central Italy. *Journal of Geophysical Research: Solid Earth*, *103*(B11), 27509-27518.\n",
    "* Sinclair, A.J. (1974) Selection of thresholds in geochemical data using probability graphs. J. Geochem. Expl., 3. 129–49.\n"
   ]
  },
  {
   "cell_type": "markdown",
   "id": "b8bcff51-2d47-404e-b805-d1cffcbbe916",
   "metadata": {},
   "source": [
    "## Example suing Visualize_Mpl and Matplotlib"
   ]
  },
  {
   "cell_type": "code",
   "execution_count": 1,
   "id": "064e8002-80fa-4c7b-a03d-8b1dc0c8db29",
   "metadata": {},
   "outputs": [
    {
     "data": {
      "application/vnd.jupyter.widget-view+json": {
       "model_id": "f4b4c243ef6f4134b2e58d607f26c76b",
       "version_major": 2,
       "version_minor": 0
      },
      "text/plain": [
       "HBox(children=(VBox(children=(BoundedIntText(value=3, description='Populations:', layout=Layout(width='auto'),…"
      ]
     },
     "metadata": {},
     "output_type": "display_data"
    }
   ],
   "source": [
    "import pyco2stats as PyCO2\n",
    "import pandas as pd\n",
    "import matplotlib.pyplot as plt\n",
    "import numpy as np\n",
    "import ipywidgets as widgets\n",
    "widgets.BoundedIntText(value=1, min=0, max=5, description='N')\n",
    "\n",
    "from IPython.display import display, clear_output\n",
    "\n",
    "plt.rcParams['font.family'] = ['Times New Roman'] \n",
    "plt.rcParams['font.size'] = 12 \n",
    "\n",
    "# my synthetic sample\n",
    "my_means = np.array([0.7, 2])\n",
    "my_stds = np.array([0.6, 0.4])\n",
    "my_weights = np.array([0.4, 0.6])\n",
    "\n",
    "my_sample = PyCO2.GMM.sample_from_gmm(n_samples= 5000, means=my_means, \n",
    "                                     stds=my_stds, weights=my_weights, random_state=43)\n",
    "\n",
    "my_dataset = df = pd.DataFrame(my_sample, columns=['log10CO2'])\n",
    "\n",
    "# The following section of code aims at defining the interactive experience\n",
    "\n",
    "# defining the interactive experience start\n",
    "# Maximum number of populations we want to support\n",
    "max_populations = 4\n",
    "\n",
    "# Initial parameters\n",
    "initial_population_count = 3\n",
    "initial_meds = [0.7, 2, 1.0, 1.5, 2.2] # Ensure initial values match step if possible for cleaner display\n",
    "initial_stds = [0.60, 0.40, 0.45, 0.50, 0.80] # Ensure initial values match step if possible\n",
    "initial_fds = [0.4, 0.60, 0.50, 0.40, 0.30] # Ensure initial values match step if possible\n",
    "\n",
    "# Create interactive widgets using Textboxes\n",
    "population_count_textbox = widgets.BoundedIntText(\n",
    "    value=initial_population_count, min=1, max=max_populations,\n",
    "    description='Populations:', disabled=False, layout=widgets.Layout(width='auto')\n",
    ")\n",
    "\n",
    "\n",
    "\n",
    "# Set the step for FloatText widgets\n",
    "float_step = 0.05\n",
    "\n",
    "# Create lists to hold the textbox widgets\n",
    "meds_textboxes = []\n",
    "stds_textboxes = []\n",
    "fds_textboxes = []\n",
    "\n",
    "# Create textboxes for each population up to max_populations\n",
    "for i in range(max_populations):\n",
    "    meds_textboxes.append(widgets.BoundedFloatText(value=initial_meds[i], min=0.1, max=10.0, step=float_step,\n",
    "                                                   disabled=False, layout=widgets.Layout(width='100px')))\n",
    "    stds_textboxes.append(widgets.BoundedFloatText(value=initial_stds[i], min=0.1, max=2.0, step=float_step,\n",
    "                                                   disabled=False, layout=widgets.Layout(width='100px')))\n",
    "    fds_textboxes.append(widgets.BoundedFloatText(value=initial_fds[i], min=0.0, max=1.0, step=float_step,\n",
    "                                                  disabled=False, layout=widgets.Layout(width='100px')))\n",
    "\n",
    "# Create an output widget to capture the plot\n",
    "output = widgets.Output()\n",
    "\n",
    "\n",
    "# Create HBoxes for each parameter label and textbox pair\n",
    "med_widgets = [widgets.HBox([widgets.Label(f'Med {i+1}:', layout=widgets.Layout(width='50px')), meds_textboxes[i]], layout=widgets.Layout(align_items='center')) for i in range(max_populations)]\n",
    "std_widgets = [widgets.HBox([widgets.Label(f'Std {i+1}:', layout=widgets.Layout(width='50px')), stds_textboxes[i]], layout=widgets.Layout(align_items='center')) for i in range(max_populations)]\n",
    "fd_widgets = [widgets.HBox([widgets.Label(f'Fd {i+1}:', layout=widgets.Layout(width='50px')), fds_textboxes[i]], layout=widgets.Layout(align_items='center')) for i in range(max_populations)]\n",
    "\n",
    "\n",
    "# Arrange widgets for each population block\n",
    "population_blocks = []\n",
    "for i in range(max_populations):\n",
    "    block = widgets.VBox([\n",
    "        med_widgets[i],\n",
    "        std_widgets[i],\n",
    "        fd_widgets[i]\n",
    "    ], layout=widgets.Layout(border='1px solid #e0e0e0', padding='2px', margin='1px 0')) # Add border and padding for clarity\n",
    "\n",
    "    population_blocks.append(block)\n",
    "\n",
    "# Create horizontal rule widgets\n",
    "horizontal_rules = [widgets.HTML(value=\"<hr>\", layout=widgets.Layout(margin='2px 0')) for _ in range(max_populations - 1)]\n",
    "\n",
    "# Combine the widgets and horizontal rules into a single VBox for the left panel\n",
    "# Start with the population count textbox\n",
    "textboxes_content = [population_count_textbox]\n",
    "\n",
    "# Add population blocks and horizontal rules alternately\n",
    "for i in range(max_populations):\n",
    "    textboxes_content.append(population_blocks[i])\n",
    "    if i < max_populations - 1:\n",
    "        textboxes_content.append(horizontal_rules[i])\n",
    "\n",
    "textboxes_container = widgets.VBox(textboxes_content, layout=widgets.Layout(width='33%', margin='0 2px 0 0', overflow='auto')) # Added right margin and overflow\n",
    "\n",
    "\n",
    "# Function to update the visibility of parameter textboxes and horizontal rules\n",
    "def update_textbox_visibility(population_count):\n",
    "    # Ensure population_count is within valid range\n",
    "    current_pop_count = max(1, min(population_count, max_populations))\n",
    "    # We don't update the textbox value here to avoid observer loops.\n",
    "\n",
    "    # Control visibility of population blocks\n",
    "    for i in range(max_populations):\n",
    "        if i < current_pop_count:\n",
    "            population_blocks[i].layout.display = 'block' # Show the block\n",
    "        else:\n",
    "            population_blocks[i].layout.display = 'none' # Hide the block\n",
    "\n",
    "    # Control visibility of horizontal rules\n",
    "    for i in range(max_populations - 1):\n",
    "        # A rule is visible if the block before it is visible\n",
    "        # which means the number of populations is greater than i\n",
    "        if i < current_pop_count - 1:\n",
    "            horizontal_rules[i].layout.display = 'block' # Show the rule\n",
    "        else:\n",
    "            horizontal_rules[i].layout.display = 'none' # Hide the rule\n",
    "\n",
    "# defining the interactive experience stop\n",
    "\n",
    "# Function to update the plot based on the widget values\n",
    "def update_plot(*args):\n",
    "    with output:\n",
    "        # Clear the output before plotting new graph\n",
    "        clear_output(wait=True)\n",
    "\n",
    "        # Get the current values from the textboxes\n",
    "        population_count = population_count_textbox.value\n",
    "        # Ensure population_count is within bounds for slicing the lists\n",
    "        current_pop_count = max(1, min(population_count, max_populations))\n",
    "\n",
    "        meds = [textbox.value for textbox in meds_textboxes[:current_pop_count]]\n",
    "        stds = [textbox.value for textbox in stds_textboxes[:current_pop_count]]\n",
    "        fds = [textbox.value for textbox in fds_textboxes[:current_pop_count]]\n",
    "\n",
    "        # Normalize fds so they sum to 1\n",
    "        fds_sum = sum(fds)\n",
    "        if fds_sum != 0:\n",
    "            fds = [fd / fds_sum for fd in fds]\n",
    "        # Important: Do NOT update the fds_textboxes values here\n",
    "        # based on the normalized fds list. This would create a loop\n",
    "        # as changing the textbox value triggers the observer again.\n",
    "        # The normalization is applied internally for the plot only.\n",
    "\n",
    "        # Create the figure and axis\n",
    "        fig, ax = plt.subplots(figsize=(12, 7)) # Adjusted figure size for layout\n",
    "\n",
    "        # Plot raw data with improved style\n",
    "        if not my_dataset.empty:\n",
    "             PyCO2.Visualize_Mpl.pp_raw_data(my_dataset.log10CO2, marker='o', ax=ax, s=5, c='#FF5733', alpha=0.7, label='Raw Data')\n",
    "        else:\n",
    "             ax.text(0.5, 0.5, \"No data available\", horizontalalignment='center', verticalalignment='center', transform=ax.transAxes)\n",
    "\n",
    "\n",
    "        # Plot combined population with enhanced styling\n",
    "        if current_pop_count > 0:\n",
    "            # The meds, stds, fds lists are already sliced above based on current_pop_count\n",
    "            current_meds = meds\n",
    "            current_stds = stds\n",
    "            current_fds = fds # These are already normalized within the function\n",
    "\n",
    "            if current_meds and current_stds and current_fds: # Check if lists are not empty\n",
    "                 PyCO2.Visualize_Mpl.pp_combined_population(current_meds, current_stds, current_fds, ax=ax, linestyle='-', linewidth=3, color='#3498DB', label='Combined Population')\n",
    "\n",
    "                 # Plot single populations with enhanced styling\n",
    "                 for mean, std in zip(current_meds, current_stds):\n",
    "                    PyCO2.Visualize_Mpl.pp_one_population(mean, std, z_range=(-3.5, 3.5), ax=ax, linestyle='--', linewidth=1)\n",
    "            else:\n",
    "                 ax.text(0.5, 0.6, \"Please define population parameters\", horizontalalignment='center', verticalalignment='center', transform=ax.transAxes)\n",
    "\n",
    "        ax.set_xlim(-3.5,3.5)\n",
    "        # Plot percentiles\n",
    "        PyCO2.Visualize_Mpl.pp_add_percentiles(ax=ax, percentiles='full', linestyle='-.', linewidth=1, color='#2ECC71', label_size=12)\n",
    "\n",
    "        # Adding titles and labels\n",
    "        ax.set_xlabel('Sigma-Values', fontsize=16)\n",
    "        ax.set_ylabel('Values', fontsize=16)\n",
    "\n",
    "        # Adding legend and grid\n",
    "        ax.legend(loc='best', fontsize=14)\n",
    "        ax.grid(True, linestyle='--', alpha=0.6)\n",
    "\n",
    "        # Adjust layout to prevent labels overlapping\n",
    "        plt.tight_layout()\n",
    "\n",
    "        # Show the plot\n",
    "        plt.show()\n",
    "\n",
    "\n",
    "# Arrange the widgets box and the output box side by side using HBox\n",
    "main_layout = widgets.HBox([textboxes_container, output], layout=widgets.Layout(width='100%', align_items='flex-start')) # Align items to top\n",
    "\n",
    "\n",
    "# Connect the update functions to the widgets\n",
    "population_count_textbox.observe(lambda change: update_textbox_visibility(change['new']), names='value')\n",
    "population_count_textbox.observe(update_plot, names='value')\n",
    "\n",
    "# Observe changes on all parameter textboxes\n",
    "all_parameter_textboxes = meds_textboxes + stds_textboxes + fds_textboxes\n",
    "for textbox in all_parameter_textboxes:\n",
    "    textbox.observe(update_plot, names='value')\n",
    "\n",
    "\n",
    "# Display the main layout\n",
    "display(main_layout)\n",
    "\n",
    "# Initialize textbox visibility and plot\n",
    "update_textbox_visibility(initial_population_count)\n",
    "update_plot() # Initial plot rendering"
   ]
  },
  {
   "cell_type": "markdown",
   "id": "eed78784-dce1-4ff7-9697-5a465ab02d95",
   "metadata": {},
   "source": [
    "## Example using Visualize_Plotly and Plotly. To open this in a full window clikc [here](http://127.0.0.1:8050/)"
   ]
  },
  {
   "cell_type": "code",
   "execution_count": 2,
   "id": "5244ad01-ffe9-44a0-8727-5412816eadd1",
   "metadata": {},
   "outputs": [
    {
     "data": {
      "text/html": [
       "\n",
       "        <iframe\n",
       "            width=\"100%\"\n",
       "            height=\"650\"\n",
       "            src=\"http://127.0.0.1:8050/\"\n",
       "            frameborder=\"0\"\n",
       "            allowfullscreen\n",
       "            \n",
       "        ></iframe>\n",
       "        "
      ],
      "text/plain": [
       "<IPython.lib.display.IFrame at 0x1fef3637760>"
      ]
     },
     "metadata": {},
     "output_type": "display_data"
    }
   ],
   "source": [
    "import numpy as np\n",
    "import pandas as pd\n",
    "import pyco2stats as PyCO2\n",
    "import dash_bootstrap_components as dbc\n",
    "import dash_daq as daq\n",
    "from dash import Dash, dcc, html, dash_table, Input, Output, callback_context\n",
    "import plotly.graph_objects as go\n",
    "\n",
    "# ── 1) Synthetic data ───────────────────────────────────────────\n",
    "my_means, my_stds = np.array([0.7, 2.0]), np.array([0.6, 0.4])\n",
    "my_weights        = np.array([0.4, 0.6])\n",
    "df = pd.DataFrame(\n",
    "    PyCO2.GMM.sample_from_gmm(100, my_means, my_stds, my_weights, random_state=43),\n",
    "    columns=['log10CO2']\n",
    ")\n",
    "\n",
    "# ── 2) Constants & init params ───────────────────────────────────\n",
    "AX_MIN,AX_MAX = -3.5, 3.5\n",
    "Y_MIN,Y_MAX   = df.log10CO2.min() - 0.5, df.log10CO2.max() + 0.5\n",
    "X0,X1         = -3.0, 3.0\n",
    "OFFSET        = 0.05\n",
    "mi_x          = np.linspace(AX_MIN, AX_MAX, 600)\n",
    "\n",
    "init_params = [\n",
    "    {'name':'Pop 1','mu':0.7,'sigma':0.6,'weight':0.4,'color':'firebrick'},\n",
    "    {'name':'Pop 2','mu':2.0,'sigma':0.4,'weight':0.6,'color':'navy'}\n",
    "]\n",
    "\n",
    "# ── 3) Build Dash app ─────────────────────────────────────────────\n",
    "app = Dash(__name__, external_stylesheets=[dbc.themes.BOOTSTRAP])\n",
    "\n",
    "# ── 4) Editable DataTable ─────────────────────────────────────────\n",
    "table_columns = [\n",
    "    {'name':'Population','id':'name','presentation':'markdown'},\n",
    "    {'name':'μ','id':'mu','type':'numeric','format':{'specifier':'.2f'}},\n",
    "    {'name':'σ','id':'sigma','type':'numeric','format':{'specifier':'.2f'}},\n",
    "    {'name':'Weight','id':'weight','type':'numeric','format':{'specifier':'.2f'}}\n",
    "]\n",
    "params_table = dash_table.DataTable(\n",
    "    id='params-table',\n",
    "    columns=table_columns,\n",
    "    data=[p.copy() for p in init_params],\n",
    "    editable=True,\n",
    "    style_cell={'textAlign':'center','padding':'4px'},\n",
    "    style_header={'fontWeight':'bold'},\n",
    "    style_table={'overflowX':'auto'}\n",
    ")\n",
    "\n",
    "# ── 5) Panel for each population ──────────────────────────────────\n",
    "def pop_panel(index):\n",
    "    p = init_params[index]\n",
    "    return html.Div([\n",
    "        html.Div(p['name'], style={'fontWeight':'bold','textAlign':'center','marginBottom':'0.5rem'}),\n",
    "        html.Div('Adjust σ', style={'textAlign':'center','marginBottom':'0.25rem'}),\n",
    "        daq.Knob(\n",
    "            id=f'knob-sigma-{index}',\n",
    "            min=0, max=2, value=p['sigma'],\n",
    "            size=70, color=p['color']\n",
    "        ),\n",
    "        html.Div('Adjust μ', style={'textAlign':'center','marginTop':'1rem','marginBottom':'0.25rem'}),\n",
    "        daq.Knob(\n",
    "            id=f'knob-mean-{index}',\n",
    "            min=AX_MIN, max=AX_MAX, value=p['mu'],\n",
    "            size=70, color=p['color']\n",
    "        ),\n",
    "    ], style={'display':'flex','flexDirection':'column','alignItems':'center'})\n",
    "\n",
    "# ── 6) Figure factory ─────────────────────────────────────────────\n",
    "def make_fig(params):\n",
    "    fig = go.Figure(layout=dict(\n",
    "        width=800, height=500,\n",
    "        margin=dict(l=40, r=40, t=20, b=40),\n",
    "        xaxis={'range':[AX_MIN,AX_MAX],'fixedrange':True,'title':'σ-value (z)'},\n",
    "        yaxis={'range':[Y_MIN,Y_MAX],'fixedrange':True,'title':'log₁₀(CO₂)'},\n",
    "        legend={'x':0.8,'y':0.1,'bgcolor':'rgba(255,255,255,0.8)'}\n",
    "    ))\n",
    "    PyCO2.Visualize_Plotly.pp_raw_data(\n",
    "        df.log10CO2, fig,\n",
    "        marker_kwargs={'size':8,'opacity':0.6,'color':'gray'}\n",
    "    )\n",
    "    for i,p in enumerate(params):\n",
    "        z0, z1 = X0 + i*OFFSET, X1 - i*OFFSET\n",
    "        y0, y1 = p['sigma']*z0 + p['mu'], p['sigma']*z1 + p['mu']\n",
    "        fig.add_shape(type='line',\n",
    "                      x0=z0, y0=y0, x1=z1, y1=y1,\n",
    "                      line={'color':p['color'],'width':3},\n",
    "                      editable=True, name=p['name'])\n",
    "    mus   = np.array([p['mu']    for p in params])\n",
    "    sigs  = np.array([p['sigma'] for p in params])\n",
    "    wts   = np.array([p['weight'] for p in params])\n",
    "    cdf   = PyCO2.sinclair.Sinclair.combine_gaussians(mi_x, mus, sigs, wts)\n",
    "    sigv  = PyCO2.sinclair.Sinclair.cumulative_to_sigma(cdf)\n",
    "    fig.add_trace(go.Scatter(\n",
    "        x=sigv, y=mi_x, mode='lines',\n",
    "        line={'color':'green','width':3}, name='Combined'\n",
    "    ))\n",
    "    return fig\n",
    "\n",
    "base_fig = make_fig(init_params)\n",
    "\n",
    "# ── 7) App layout ─────────────────────────────────────────────────\n",
    "app.layout = dbc.Container(fluid=True, style={'padding':'20px'}, children=[\n",
    "    # First row: Pop1 panel (2/12), Pop2 panel (2/12), Plot (8/12)\n",
    "    dbc.Row([\n",
    "        dbc.Col(pop_panel(0), width=2),\n",
    "        dbc.Col(pop_panel(1), width=2),\n",
    "        dbc.Col(\n",
    "            dcc.Graph(\n",
    "                id='plot',\n",
    "                figure=base_fig,\n",
    "                config={'edits':{'shapePosition':True}}\n",
    "            ),\n",
    "            width=8\n",
    "        ),\n",
    "    ], align='start', justify='start'),\n",
    "\n",
    "    # Second row: full-width table\n",
    "    dbc.Row([\n",
    "        dbc.Col(params_table, width=12)\n",
    "    ], style={'marginTop':'2rem'})\n",
    "])\n",
    "\n",
    "# ── 8) Callback: sync knobs/table & dragging lines ──────────────\n",
    "@app.callback(\n",
    "    Output('plot','figure'),\n",
    "    Output('params-table','data'),\n",
    "    Output('knob-sigma-0','value'),\n",
    "    Output('knob-sigma-1','value'),\n",
    "    Output('knob-mean-0','value'),\n",
    "    Output('knob-mean-1','value'),\n",
    "    Input('params-table','data'),\n",
    "    Input('knob-sigma-0','value'),\n",
    "    Input('knob-sigma-1','value'),\n",
    "    Input('knob-mean-0','value'),\n",
    "    Input('knob-mean-1','value'),\n",
    "    Input('plot','relayoutData'),\n",
    "    prevent_initial_call=True\n",
    ")\n",
    "def update_plot(table_data, s0, s1, m0, m1, relayout):\n",
    "    params = [dict(p) for p in table_data]\n",
    "    params[0]['sigma'], params[1]['sigma'] = s0, s1\n",
    "    params[0]['mu'],    params[1]['mu']    = m0, m1\n",
    "\n",
    "    trig = callback_context.triggered[0]['prop_id']\n",
    "    if trig.startswith('plot.relayoutData') and relayout:\n",
    "        for i in (0,1):\n",
    "            y0 = relayout.get(f'shapes[{i}].y0')\n",
    "            y1 = relayout.get(f'shapes[{i}].y1')\n",
    "            if y0 is not None and y1 is not None:\n",
    "                z0, z1 = X0 + i*OFFSET, X1 - i*OFFSET\n",
    "                sigma_new = (y1 - y0)/(z1 - z0)\n",
    "                mu_new    = y0 - sigma_new*z0\n",
    "                params[i]['sigma'], params[i]['mu'] = sigma_new, mu_new\n",
    "                break\n",
    "\n",
    "    return (\n",
    "        make_fig(params),\n",
    "        params,\n",
    "        params[0]['sigma'], params[1]['sigma'],\n",
    "        params[0]['mu'],    params[1]['mu']\n",
    "    )\n",
    "\n",
    "if __name__ == '__main__':\n",
    "    app.run(debug=False)\n"
   ]
  },
  {
   "cell_type": "code",
   "execution_count": null,
   "id": "2c095eb3-1da6-469c-806f-0d176fab7851",
   "metadata": {},
   "outputs": [],
   "source": []
  },
  {
   "cell_type": "code",
   "execution_count": 3,
   "id": "9d2e21e5-9fd1-4c64-be39-a61900247cce",
   "metadata": {},
   "outputs": [
    {
     "data": {
      "application/vnd.jupyter.widget-view+json": {
       "model_id": "7abe7de8348443c99a14e7ef5c0d08a3",
       "version_major": 2,
       "version_minor": 0
      },
      "text/plain": [
       "BoundedIntText(value=1, description='N', max=5)"
      ]
     },
     "metadata": {},
     "output_type": "display_data"
    }
   ],
   "source": [
    "import ipywidgets as widgets\n",
    "from IPython.display import display\n",
    "display(widgets.BoundedIntText(value=1, min=0, max=5, description='N'))"
   ]
  },
  {
   "cell_type": "code",
   "execution_count": null,
   "id": "c5dfd6c9-b2eb-437a-8baf-3eb53b010389",
   "metadata": {},
   "outputs": [],
   "source": []
  }
 ],
 "metadata": {
  "kernelspec": {
   "display_name": "Python 3 (ipykernel)",
   "language": "python",
   "name": "python3"
  },
  "language_info": {
   "codemirror_mode": {
    "name": "ipython",
    "version": 3
   },
   "file_extension": ".py",
   "mimetype": "text/x-python",
   "name": "python",
   "nbconvert_exporter": "python",
   "pygments_lexer": "ipython3",
   "version": "3.10.18"
  },
  "widgets": {
   "application/vnd.jupyter.widget-state+json": {
    "state": {
     "018ae58b77c0471ab13daa7b7766659b": {
      "model_module": "@jupyter-widgets/base",
      "model_module_version": "2.0.0",
      "model_name": "LayoutModel",
      "state": {
       "display": "block",
       "margin": "2px 0"
      }
     },
     "02602fd71dc84693b1278879af0be6ab": {
      "model_module": "@jupyter-widgets/base",
      "model_module_version": "2.0.0",
      "model_name": "LayoutModel",
      "state": {
       "align_items": "center"
      }
     },
     "03cdcb512812463ead7e89e87426b1de": {
      "model_module": "@jupyter-widgets/controls",
      "model_module_version": "2.0.0",
      "model_name": "DescriptionStyleModel",
      "state": {
       "description_width": ""
      }
     },
     "04e905a089d54f2d96797b1101771361": {
      "model_module": "@jupyter-widgets/base",
      "model_module_version": "2.0.0",
      "model_name": "LayoutModel",
      "state": {
       "width": "100px"
      }
     },
     "059c6fab68324b0b8c5a6ddb97bd36de": {
      "model_module": "@jupyter-widgets/controls",
      "model_module_version": "2.0.0",
      "model_name": "HBoxModel",
      "state": {
       "children": [
        "IPY_MODEL_d141d0cab0b7417c8dffe6f16e41b0df",
        "IPY_MODEL_25ba2e1d4321463c993efdb8ef5f62b0"
       ],
       "layout": "IPY_MODEL_02602fd71dc84693b1278879af0be6ab"
      }
     },
     "0628a20047b94b9fbd05077e0edb2fb4": {
      "model_module": "@jupyter-widgets/base",
      "model_module_version": "2.0.0",
      "model_name": "LayoutModel",
      "state": {
       "align_items": "center"
      }
     },
     "082254d870ba4f8d9f371b241cc8cedd": {
      "model_module": "@jupyter-widgets/base",
      "model_module_version": "2.0.0",
      "model_name": "LayoutModel",
      "state": {}
     },
     "0b90100ff2554b23941e5b40b493a79c": {
      "model_module": "@jupyter-widgets/controls",
      "model_module_version": "2.0.0",
      "model_name": "LabelModel",
      "state": {
       "layout": "IPY_MODEL_e0e63e52e68a416eb5564f40e99f0405",
       "style": "IPY_MODEL_cebf718da636421c8575a9cc878e29e8",
       "value": "Fd 4:"
      }
     },
     "0fd8cd6072664d198a3e33f81841cf48": {
      "model_module": "@jupyter-widgets/controls",
      "model_module_version": "2.0.0",
      "model_name": "HBoxModel",
      "state": {
       "children": [
        "IPY_MODEL_435512dbdb774de881731398478eb29c",
        "IPY_MODEL_5e6e94dfb130464ab904ea1661887926"
       ],
       "layout": "IPY_MODEL_7ca4ea7083bf4ec8b63c82fab14c6f1a"
      }
     },
     "119d0aecfecf4c0f9f9da60fc2466c72": {
      "model_module": "@jupyter-widgets/base",
      "model_module_version": "2.0.0",
      "model_name": "LayoutModel",
      "state": {
       "width": "50px"
      }
     },
     "12f3884ffda242ff80e4c04fdabffb09": {
      "model_module": "@jupyter-widgets/controls",
      "model_module_version": "2.0.0",
      "model_name": "LabelModel",
      "state": {
       "layout": "IPY_MODEL_5ea4d8f92d234ab88814d078c910bd29",
       "style": "IPY_MODEL_cc3a2d3786ba4df19cfdbb03a26844f0",
       "value": "Med 1:"
      }
     },
     "144c4c973e124f74bf9b28a11662a9dc": {
      "model_module": "@jupyter-widgets/controls",
      "model_module_version": "2.0.0",
      "model_name": "DescriptionStyleModel",
      "state": {
       "description_width": ""
      }
     },
     "18456b8ff9f94b5396059da1dd968301": {
      "model_module": "@jupyter-widgets/controls",
      "model_module_version": "2.0.0",
      "model_name": "HTMLModel",
      "state": {
       "layout": "IPY_MODEL_018ae58b77c0471ab13daa7b7766659b",
       "style": "IPY_MODEL_9d56f85239184f69a244ad156ce0d59d",
       "value": "<hr>"
      }
     },
     "198e7e90630549dea57c71d44a31b913": {
      "model_module": "@jupyter-widgets/base",
      "model_module_version": "2.0.0",
      "model_name": "LayoutModel",
      "state": {
       "width": "50px"
      }
     },
     "1bfa710032604d0c8e7e72e9e73bbbb9": {
      "model_module": "@jupyter-widgets/controls",
      "model_module_version": "2.0.0",
      "model_name": "BoundedFloatTextModel",
      "state": {
       "layout": "IPY_MODEL_fe72bb1e822f4666906b4de66d069b5e",
       "max": 10,
       "min": 0.1,
       "step": 0.05,
       "style": "IPY_MODEL_82d7926c38e840e7b229be0b8de8563f",
       "value": 1.5
      }
     },
     "1ccb31c895874b2aa5304b04475b7d9d": {
      "model_module": "@jupyter-widgets/base",
      "model_module_version": "2.0.0",
      "model_name": "LayoutModel",
      "state": {
       "border_bottom": "1px solid #e0e0e0",
       "border_left": "1px solid #e0e0e0",
       "border_right": "1px solid #e0e0e0",
       "border_top": "1px solid #e0e0e0",
       "display": "none",
       "margin": "1px 0",
       "padding": "2px"
      }
     },
     "1d2a5d7ce95b4b028f76958978a598a6": {
      "model_module": "@jupyter-widgets/controls",
      "model_module_version": "2.0.0",
      "model_name": "VBoxModel",
      "state": {
       "children": [
        "IPY_MODEL_ce812a86297946e4987ce487e079ddd3",
        "IPY_MODEL_aef5f275624346e18e5b329ec160c413",
        "IPY_MODEL_e0d052fa4f204536b47b234bf6d63b81"
       ],
       "layout": "IPY_MODEL_6dbe978c76a14a6f902bcdb194ccde11"
      }
     },
     "1ea81f2164d44d638751ef8d010a26e7": {
      "model_module": "@jupyter-widgets/controls",
      "model_module_version": "2.0.0",
      "model_name": "LabelStyleModel",
      "state": {
       "description_width": "",
       "font_family": null,
       "font_size": null,
       "font_style": null,
       "font_variant": null,
       "font_weight": null,
       "text_color": null,
       "text_decoration": null
      }
     },
     "1feb6754591f4233b9dfe6d6ca1c8ca4": {
      "model_module": "@jupyter-widgets/base",
      "model_module_version": "2.0.0",
      "model_name": "LayoutModel",
      "state": {
       "width": "100px"
      }
     },
     "242d8df6c97d4a19b1fcd23aa6a8f7ee": {
      "model_module": "@jupyter-widgets/base",
      "model_module_version": "2.0.0",
      "model_name": "LayoutModel",
      "state": {
       "align_items": "center"
      }
     },
     "25ba2e1d4321463c993efdb8ef5f62b0": {
      "model_module": "@jupyter-widgets/controls",
      "model_module_version": "2.0.0",
      "model_name": "BoundedFloatTextModel",
      "state": {
       "layout": "IPY_MODEL_d4b96079bd9445a08371428598c2d6bd",
       "max": 10,
       "min": 0.1,
       "step": 0.05,
       "style": "IPY_MODEL_f55ffd8e0eae45989142a1321122615b",
       "value": 1
      }
     },
     "29c156dc2a32470dba19bf2757ad47b3": {
      "model_module": "@jupyter-widgets/base",
      "model_module_version": "2.0.0",
      "model_name": "LayoutModel",
      "state": {
       "align_items": "center"
      }
     },
     "2cce246a4f224f5bb299848ea6c07902": {
      "model_module": "@jupyter-widgets/output",
      "model_module_version": "1.0.0",
      "model_name": "OutputModel",
      "state": {
       "layout": "IPY_MODEL_082254d870ba4f8d9f371b241cc8cedd",
       "outputs": [
        {
         "data": {
          "image/png": "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",
          "text/plain": "<Figure size 1200x700 with 1 Axes>"
         },
         "metadata": {},
         "output_type": "display_data"
        }
       ]
      }
     },
     "2cff7f834ab74957b22e469ad4840bf0": {
      "model_module": "@jupyter-widgets/base",
      "model_module_version": "2.0.0",
      "model_name": "LayoutModel",
      "state": {
       "align_items": "center"
      }
     },
     "2dafff017f31408c9ba44250b2a807cb": {
      "model_module": "@jupyter-widgets/controls",
      "model_module_version": "2.0.0",
      "model_name": "LabelModel",
      "state": {
       "layout": "IPY_MODEL_779c70654aae43cb88ff9da99fa1247c",
       "style": "IPY_MODEL_4b1b7f6d26ee4094b7c59323b487ee9f",
       "value": "Std 2:"
      }
     },
     "302261f5aeea47adabd4415c5deb2d0d": {
      "model_module": "@jupyter-widgets/base",
      "model_module_version": "2.0.0",
      "model_name": "LayoutModel",
      "state": {
       "width": "50px"
      }
     },
     "308f5fc8aa0a4d548f53157d2a073746": {
      "model_module": "@jupyter-widgets/controls",
      "model_module_version": "2.0.0",
      "model_name": "BoundedFloatTextModel",
      "state": {
       "layout": "IPY_MODEL_4ef01ec941984739bc50e064b8919004",
       "max": 1,
       "step": 0.05,
       "style": "IPY_MODEL_6a66710f9079410db18ab99f07a6025a",
       "value": 0.6
      }
     },
     "312027eb00784dae926520de6201b921": {
      "model_module": "@jupyter-widgets/controls",
      "model_module_version": "2.0.0",
      "model_name": "HBoxModel",
      "state": {
       "children": [
        "IPY_MODEL_2dafff017f31408c9ba44250b2a807cb",
        "IPY_MODEL_508f05078a47467294f2ee0369e5df12"
       ],
       "layout": "IPY_MODEL_3c939c4043f84ccfa85ee2c43275534f"
      }
     },
     "3427b07058124015865562a8c300ebcc": {
      "model_module": "@jupyter-widgets/controls",
      "model_module_version": "2.0.0",
      "model_name": "HTMLModel",
      "state": {
       "layout": "IPY_MODEL_61772e73bef941089e89fed5f2030730",
       "style": "IPY_MODEL_e45dab93ead2458387e5aebc40483070",
       "value": "<hr>"
      }
     },
     "3452a9dcbc5846dead5f9d0e857e97a6": {
      "model_module": "@jupyter-widgets/controls",
      "model_module_version": "2.0.0",
      "model_name": "BoundedFloatTextModel",
      "state": {
       "layout": "IPY_MODEL_e49e41293dba4afa99bcd1faf5404447",
       "max": 2,
       "min": 0.1,
       "step": 0.05,
       "style": "IPY_MODEL_c153659b34dc4081a1284e66e633ee0f",
       "value": 0.45
      }
     },
     "37303cd5d9fc4422b168fd0ce51ef32d": {
      "model_module": "@jupyter-widgets/controls",
      "model_module_version": "2.0.0",
      "model_name": "DescriptionStyleModel",
      "state": {
       "description_width": ""
      }
     },
     "37bc79e26b374703a2991f8ee5a40dce": {
      "model_module": "@jupyter-widgets/base",
      "model_module_version": "2.0.0",
      "model_name": "LayoutModel",
      "state": {
       "align_items": "center"
      }
     },
     "3a5e998652414aa3b951cbe59d14f699": {
      "model_module": "@jupyter-widgets/controls",
      "model_module_version": "2.0.0",
      "model_name": "DescriptionStyleModel",
      "state": {
       "description_width": ""
      }
     },
     "3ad6df8e3b2b4d4f8bc9cc6c7559ab84": {
      "model_module": "@jupyter-widgets/base",
      "model_module_version": "2.0.0",
      "model_name": "LayoutModel",
      "state": {
       "align_items": "center"
      }
     },
     "3bfb2a7584dd47b9a9b1d099139c495d": {
      "model_module": "@jupyter-widgets/base",
      "model_module_version": "2.0.0",
      "model_name": "LayoutModel",
      "state": {
       "align_items": "flex-start",
       "width": "100%"
      }
     },
     "3c939c4043f84ccfa85ee2c43275534f": {
      "model_module": "@jupyter-widgets/base",
      "model_module_version": "2.0.0",
      "model_name": "LayoutModel",
      "state": {
       "align_items": "center"
      }
     },
     "3d6f3765779f435ab964ba69bcb92049": {
      "model_module": "@jupyter-widgets/base",
      "model_module_version": "2.0.0",
      "model_name": "LayoutModel",
      "state": {
       "width": "100px"
      }
     },
     "435512dbdb774de881731398478eb29c": {
      "model_module": "@jupyter-widgets/controls",
      "model_module_version": "2.0.0",
      "model_name": "LabelModel",
      "state": {
       "layout": "IPY_MODEL_302261f5aeea47adabd4415c5deb2d0d",
       "style": "IPY_MODEL_9db48a13fd3b4131a4d9336842f8a587",
       "value": "Fd 3:"
      }
     },
     "463ca75ba1384035b54b20d012c72c7b": {
      "model_module": "@jupyter-widgets/base",
      "model_module_version": "2.0.0",
      "model_name": "LayoutModel",
      "state": {
       "width": "50px"
      }
     },
     "467342c2d4b54a2ab583464bf6fb18a8": {
      "model_module": "@jupyter-widgets/controls",
      "model_module_version": "2.0.0",
      "model_name": "VBoxModel",
      "state": {
       "children": [
        "IPY_MODEL_9860b1fb94574ec5be9321a61e913ef2",
        "IPY_MODEL_8cd431955ccb4ccfa0d63c2d2c67f9b7",
        "IPY_MODEL_9e66f10225e24faabcccce4d0c470359"
       ],
       "layout": "IPY_MODEL_1ccb31c895874b2aa5304b04475b7d9d"
      }
     },
     "48b7445c29a34621b83b550f3a0edad2": {
      "model_module": "@jupyter-widgets/controls",
      "model_module_version": "2.0.0",
      "model_name": "DescriptionStyleModel",
      "state": {
       "description_width": ""
      }
     },
     "4b1b7f6d26ee4094b7c59323b487ee9f": {
      "model_module": "@jupyter-widgets/controls",
      "model_module_version": "2.0.0",
      "model_name": "LabelStyleModel",
      "state": {
       "description_width": "",
       "font_family": null,
       "font_size": null,
       "font_style": null,
       "font_variant": null,
       "font_weight": null,
       "text_color": null,
       "text_decoration": null
      }
     },
     "4c4ff44c39354892b71582fed8489d71": {
      "model_module": "@jupyter-widgets/controls",
      "model_module_version": "2.0.0",
      "model_name": "LabelStyleModel",
      "state": {
       "description_width": "",
       "font_family": null,
       "font_size": null,
       "font_style": null,
       "font_variant": null,
       "font_weight": null,
       "text_color": null,
       "text_decoration": null
      }
     },
     "4d2d463e1d674fdd9b327b03643c182a": {
      "model_module": "@jupyter-widgets/base",
      "model_module_version": "2.0.0",
      "model_name": "LayoutModel",
      "state": {
       "margin": "0 2px 0 0",
       "overflow": "auto",
       "width": "33%"
      }
     },
     "4d938e4c27694c9e9396e58be706ffd3": {
      "model_module": "@jupyter-widgets/controls",
      "model_module_version": "2.0.0",
      "model_name": "DescriptionStyleModel",
      "state": {
       "description_width": ""
      }
     },
     "4ef01ec941984739bc50e064b8919004": {
      "model_module": "@jupyter-widgets/base",
      "model_module_version": "2.0.0",
      "model_name": "LayoutModel",
      "state": {
       "width": "100px"
      }
     },
     "508f05078a47467294f2ee0369e5df12": {
      "model_module": "@jupyter-widgets/controls",
      "model_module_version": "2.0.0",
      "model_name": "BoundedFloatTextModel",
      "state": {
       "layout": "IPY_MODEL_86a0b637cf304ede807b003266045783",
       "max": 2,
       "min": 0.1,
       "step": 0.05,
       "style": "IPY_MODEL_48b7445c29a34621b83b550f3a0edad2",
       "value": 0.4
      }
     },
     "522e6f9cd81447bc92a8ec4dde29f393": {
      "model_module": "@jupyter-widgets/base",
      "model_module_version": "2.0.0",
      "model_name": "LayoutModel",
      "state": {
       "width": "100px"
      }
     },
     "5440b9b2c00743ceb8187ddca76b6a07": {
      "model_module": "@jupyter-widgets/controls",
      "model_module_version": "2.0.0",
      "model_name": "HBoxModel",
      "state": {
       "children": [
        "IPY_MODEL_73c8ce68c95045bba7551ac8ee65e710",
        "IPY_MODEL_3452a9dcbc5846dead5f9d0e857e97a6"
       ],
       "layout": "IPY_MODEL_0628a20047b94b9fbd05077e0edb2fb4"
      }
     },
     "5447da881253467ba88c4cbd7d13b9b4": {
      "model_module": "@jupyter-widgets/controls",
      "model_module_version": "2.0.0",
      "model_name": "LabelStyleModel",
      "state": {
       "description_width": "",
       "font_family": null,
       "font_size": null,
       "font_style": null,
       "font_variant": null,
       "font_weight": null,
       "text_color": null,
       "text_decoration": null
      }
     },
     "57c576e01ab2406a815bba90b2ee33c9": {
      "model_module": "@jupyter-widgets/controls",
      "model_module_version": "2.0.0",
      "model_name": "LabelStyleModel",
      "state": {
       "description_width": "",
       "font_family": null,
       "font_size": null,
       "font_style": null,
       "font_variant": null,
       "font_weight": null,
       "text_color": null,
       "text_decoration": null
      }
     },
     "58bca48a9e524d5d8c452157e1ed02d9": {
      "model_module": "@jupyter-widgets/controls",
      "model_module_version": "2.0.0",
      "model_name": "DescriptionStyleModel",
      "state": {
       "description_width": ""
      }
     },
     "5d11278a3ca24b8e925d2efc4e0add35": {
      "model_module": "@jupyter-widgets/controls",
      "model_module_version": "2.0.0",
      "model_name": "LabelStyleModel",
      "state": {
       "description_width": "",
       "font_family": null,
       "font_size": null,
       "font_style": null,
       "font_variant": null,
       "font_weight": null,
       "text_color": null,
       "text_decoration": null
      }
     },
     "5e6e94dfb130464ab904ea1661887926": {
      "model_module": "@jupyter-widgets/controls",
      "model_module_version": "2.0.0",
      "model_name": "BoundedFloatTextModel",
      "state": {
       "layout": "IPY_MODEL_3d6f3765779f435ab964ba69bcb92049",
       "max": 1,
       "step": 0.05,
       "style": "IPY_MODEL_144c4c973e124f74bf9b28a11662a9dc",
       "value": 0.5
      }
     },
     "5ea4d8f92d234ab88814d078c910bd29": {
      "model_module": "@jupyter-widgets/base",
      "model_module_version": "2.0.0",
      "model_name": "LayoutModel",
      "state": {
       "width": "50px"
      }
     },
     "61772e73bef941089e89fed5f2030730": {
      "model_module": "@jupyter-widgets/base",
      "model_module_version": "2.0.0",
      "model_name": "LayoutModel",
      "state": {
       "display": "none",
       "margin": "2px 0"
      }
     },
     "64e1ab6cf8cb45c8902e7ebca21b0893": {
      "model_module": "@jupyter-widgets/controls",
      "model_module_version": "2.0.0",
      "model_name": "LabelStyleModel",
      "state": {
       "description_width": "",
       "font_family": null,
       "font_size": null,
       "font_style": null,
       "font_variant": null,
       "font_weight": null,
       "text_color": null,
       "text_decoration": null
      }
     },
     "6572fd92f8fa4371977d12fa3c93b036": {
      "model_module": "@jupyter-widgets/controls",
      "model_module_version": "2.0.0",
      "model_name": "BoundedFloatTextModel",
      "state": {
       "layout": "IPY_MODEL_522e6f9cd81447bc92a8ec4dde29f393",
       "max": 2,
       "min": 0.1,
       "step": 0.05,
       "style": "IPY_MODEL_d50902cb9b53449c859e15e02539f6be",
       "value": 0.6
      }
     },
     "6a66710f9079410db18ab99f07a6025a": {
      "model_module": "@jupyter-widgets/controls",
      "model_module_version": "2.0.0",
      "model_name": "DescriptionStyleModel",
      "state": {
       "description_width": ""
      }
     },
     "6abef1ecb63143b7b8b86d2b8cf593ad": {
      "model_module": "@jupyter-widgets/controls",
      "model_module_version": "2.0.0",
      "model_name": "BoundedFloatTextModel",
      "state": {
       "layout": "IPY_MODEL_edd8ec5c8fe94315bc009323ed4a8357",
       "max": 10,
       "min": 0.1,
       "step": 0.05,
       "style": "IPY_MODEL_37303cd5d9fc4422b168fd0ce51ef32d",
       "value": 2
      }
     },
     "6dbe978c76a14a6f902bcdb194ccde11": {
      "model_module": "@jupyter-widgets/base",
      "model_module_version": "2.0.0",
      "model_name": "LayoutModel",
      "state": {
       "border_bottom": "1px solid #e0e0e0",
       "border_left": "1px solid #e0e0e0",
       "border_right": "1px solid #e0e0e0",
       "border_top": "1px solid #e0e0e0",
       "display": "block",
       "margin": "1px 0",
       "padding": "2px"
      }
     },
     "6f28cb3d006e46dab6f71081526119ee": {
      "model_module": "@jupyter-widgets/controls",
      "model_module_version": "2.0.0",
      "model_name": "BoundedIntTextModel",
      "state": {
       "description": "Populations:",
       "layout": "IPY_MODEL_e94c39ad10fc47c28fbceffe773336d8",
       "max": 4,
       "min": 1,
       "style": "IPY_MODEL_4d938e4c27694c9e9396e58be706ffd3",
       "value": 3
      }
     },
     "70b84756e4fb4f0b81f9f0cd06837fef": {
      "model_module": "@jupyter-widgets/base",
      "model_module_version": "2.0.0",
      "model_name": "LayoutModel",
      "state": {
       "width": "50px"
      }
     },
     "73c8ce68c95045bba7551ac8ee65e710": {
      "model_module": "@jupyter-widgets/controls",
      "model_module_version": "2.0.0",
      "model_name": "LabelModel",
      "state": {
       "layout": "IPY_MODEL_463ca75ba1384035b54b20d012c72c7b",
       "style": "IPY_MODEL_82cbc61474b74d4696224d8fbbaf57bc",
       "value": "Std 3:"
      }
     },
     "779c70654aae43cb88ff9da99fa1247c": {
      "model_module": "@jupyter-widgets/base",
      "model_module_version": "2.0.0",
      "model_name": "LayoutModel",
      "state": {
       "width": "50px"
      }
     },
     "78aac2cb8c00476e9f2c838635569ba4": {
      "model_module": "@jupyter-widgets/base",
      "model_module_version": "2.0.0",
      "model_name": "LayoutModel",
      "state": {
       "align_items": "center"
      }
     },
     "7ca4ea7083bf4ec8b63c82fab14c6f1a": {
      "model_module": "@jupyter-widgets/base",
      "model_module_version": "2.0.0",
      "model_name": "LayoutModel",
      "state": {
       "align_items": "center"
      }
     },
     "7f1288fbdf7c435881b9b17fe5ac39ac": {
      "model_module": "@jupyter-widgets/controls",
      "model_module_version": "2.0.0",
      "model_name": "BoundedFloatTextModel",
      "state": {
       "layout": "IPY_MODEL_fcd5bb9039544c8fa8cc791c7713332c",
       "max": 2,
       "min": 0.1,
       "step": 0.05,
       "style": "IPY_MODEL_03cdcb512812463ead7e89e87426b1de",
       "value": 0.5
      }
     },
     "82cbc61474b74d4696224d8fbbaf57bc": {
      "model_module": "@jupyter-widgets/controls",
      "model_module_version": "2.0.0",
      "model_name": "LabelStyleModel",
      "state": {
       "description_width": "",
       "font_family": null,
       "font_size": null,
       "font_style": null,
       "font_variant": null,
       "font_weight": null,
       "text_color": null,
       "text_decoration": null
      }
     },
     "82d7926c38e840e7b229be0b8de8563f": {
      "model_module": "@jupyter-widgets/controls",
      "model_module_version": "2.0.0",
      "model_name": "DescriptionStyleModel",
      "state": {
       "description_width": ""
      }
     },
     "845f1114f2dc403da55c1fe2eb36bb79": {
      "model_module": "@jupyter-widgets/controls",
      "model_module_version": "2.0.0",
      "model_name": "LabelStyleModel",
      "state": {
       "description_width": "",
       "font_family": null,
       "font_size": null,
       "font_style": null,
       "font_variant": null,
       "font_weight": null,
       "text_color": null,
       "text_decoration": null
      }
     },
     "84f04dbabe9848bf9d6d07f7e45acf15": {
      "model_module": "@jupyter-widgets/base",
      "model_module_version": "2.0.0",
      "model_name": "LayoutModel",
      "state": {
       "width": "50px"
      }
     },
     "86a0b637cf304ede807b003266045783": {
      "model_module": "@jupyter-widgets/base",
      "model_module_version": "2.0.0",
      "model_name": "LayoutModel",
      "state": {
       "width": "100px"
      }
     },
     "87db66f3a672433097941b6b628d63fa": {
      "model_module": "@jupyter-widgets/base",
      "model_module_version": "2.0.0",
      "model_name": "LayoutModel",
      "state": {
       "border_bottom": "1px solid #e0e0e0",
       "border_left": "1px solid #e0e0e0",
       "border_right": "1px solid #e0e0e0",
       "border_top": "1px solid #e0e0e0",
       "display": "block",
       "margin": "1px 0",
       "padding": "2px"
      }
     },
     "89db9b7a51704471819081fc36da87cc": {
      "model_module": "@jupyter-widgets/base",
      "model_module_version": "2.0.0",
      "model_name": "LayoutModel",
      "state": {
       "align_items": "center"
      }
     },
     "8cd431955ccb4ccfa0d63c2d2c67f9b7": {
      "model_module": "@jupyter-widgets/controls",
      "model_module_version": "2.0.0",
      "model_name": "HBoxModel",
      "state": {
       "children": [
        "IPY_MODEL_d048fbd965f54f0883251c1178835c1d",
        "IPY_MODEL_7f1288fbdf7c435881b9b17fe5ac39ac"
       ],
       "layout": "IPY_MODEL_29c156dc2a32470dba19bf2757ad47b3"
      }
     },
     "918b93291cb9402f8b4f502b6e7c37a2": {
      "model_module": "@jupyter-widgets/controls",
      "model_module_version": "2.0.0",
      "model_name": "BoundedFloatTextModel",
      "state": {
       "layout": "IPY_MODEL_fe1538e20e5b4195a81d8333f6ca226e",
       "max": 1,
       "step": 0.05,
       "style": "IPY_MODEL_58bca48a9e524d5d8c452157e1ed02d9",
       "value": 0.4
      }
     },
     "946dd49490fc400ca33bc493e8c4720d": {
      "model_module": "@jupyter-widgets/controls",
      "model_module_version": "2.0.0",
      "model_name": "HTMLStyleModel",
      "state": {
       "description_width": "",
       "font_size": null,
       "text_color": null
      }
     },
     "94bde5a562294088bc83441b36b21b2d": {
      "model_module": "@jupyter-widgets/controls",
      "model_module_version": "2.0.0",
      "model_name": "HBoxModel",
      "state": {
       "children": [
        "IPY_MODEL_9c23e32d917545ceacae3ef456cfed49",
        "IPY_MODEL_308f5fc8aa0a4d548f53157d2a073746"
       ],
       "layout": "IPY_MODEL_37bc79e26b374703a2991f8ee5a40dce"
      }
     },
     "977a9435ea97477db0ceafe39f3b57ad": {
      "model_module": "@jupyter-widgets/controls",
      "model_module_version": "2.0.0",
      "model_name": "LabelModel",
      "state": {
       "layout": "IPY_MODEL_198e7e90630549dea57c71d44a31b913",
       "style": "IPY_MODEL_845f1114f2dc403da55c1fe2eb36bb79",
       "value": "Med 4:"
      }
     },
     "9860b1fb94574ec5be9321a61e913ef2": {
      "model_module": "@jupyter-widgets/controls",
      "model_module_version": "2.0.0",
      "model_name": "HBoxModel",
      "state": {
       "children": [
        "IPY_MODEL_977a9435ea97477db0ceafe39f3b57ad",
        "IPY_MODEL_1bfa710032604d0c8e7e72e9e73bbbb9"
       ],
       "layout": "IPY_MODEL_f7773f4e414f4127a093b2c213fd1c61"
      }
     },
     "98f08b4dc09c465a9375d612f455f544": {
      "model_module": "@jupyter-widgets/controls",
      "model_module_version": "2.0.0",
      "model_name": "DescriptionStyleModel",
      "state": {
       "description_width": ""
      }
     },
     "9bc89a92ecc04e08afb27d80ee360a47": {
      "model_module": "@jupyter-widgets/base",
      "model_module_version": "2.0.0",
      "model_name": "LayoutModel",
      "state": {
       "border_bottom": "1px solid #e0e0e0",
       "border_left": "1px solid #e0e0e0",
       "border_right": "1px solid #e0e0e0",
       "border_top": "1px solid #e0e0e0",
       "display": "block",
       "margin": "1px 0",
       "padding": "2px"
      }
     },
     "9c23e32d917545ceacae3ef456cfed49": {
      "model_module": "@jupyter-widgets/controls",
      "model_module_version": "2.0.0",
      "model_name": "LabelModel",
      "state": {
       "layout": "IPY_MODEL_84f04dbabe9848bf9d6d07f7e45acf15",
       "style": "IPY_MODEL_5d11278a3ca24b8e925d2efc4e0add35",
       "value": "Fd 2:"
      }
     },
     "9d56f85239184f69a244ad156ce0d59d": {
      "model_module": "@jupyter-widgets/controls",
      "model_module_version": "2.0.0",
      "model_name": "HTMLStyleModel",
      "state": {
       "description_width": "",
       "font_size": null,
       "text_color": null
      }
     },
     "9db48a13fd3b4131a4d9336842f8a587": {
      "model_module": "@jupyter-widgets/controls",
      "model_module_version": "2.0.0",
      "model_name": "LabelStyleModel",
      "state": {
       "description_width": "",
       "font_family": null,
       "font_size": null,
       "font_style": null,
       "font_variant": null,
       "font_weight": null,
       "text_color": null,
       "text_decoration": null
      }
     },
     "9e66f10225e24faabcccce4d0c470359": {
      "model_module": "@jupyter-widgets/controls",
      "model_module_version": "2.0.0",
      "model_name": "HBoxModel",
      "state": {
       "children": [
        "IPY_MODEL_0b90100ff2554b23941e5b40b493a79c",
        "IPY_MODEL_918b93291cb9402f8b4f502b6e7c37a2"
       ],
       "layout": "IPY_MODEL_78aac2cb8c00476e9f2c838635569ba4"
      }
     },
     "ae23382541764d4c995c5fc6fbbdcf68": {
      "model_module": "@jupyter-widgets/base",
      "model_module_version": "2.0.0",
      "model_name": "LayoutModel",
      "state": {
       "width": "50px"
      }
     },
     "aef5f275624346e18e5b329ec160c413": {
      "model_module": "@jupyter-widgets/controls",
      "model_module_version": "2.0.0",
      "model_name": "HBoxModel",
      "state": {
       "children": [
        "IPY_MODEL_d69953005b8c43408de3ebb494f70c06",
        "IPY_MODEL_6572fd92f8fa4371977d12fa3c93b036"
       ],
       "layout": "IPY_MODEL_2cff7f834ab74957b22e469ad4840bf0"
      }
     },
     "b3655335ba66403695ec8849b14df801": {
      "model_module": "@jupyter-widgets/controls",
      "model_module_version": "2.0.0",
      "model_name": "BoundedIntTextModel",
      "state": {
       "description": "N",
       "layout": "IPY_MODEL_cb7059aedb9146faaf67ea9a96ba2425",
       "max": 5,
       "style": "IPY_MODEL_3a5e998652414aa3b951cbe59d14f699",
       "value": 1
      }
     },
     "b74de2bda21842b2bcd5537a1c97aa5c": {
      "model_module": "@jupyter-widgets/controls",
      "model_module_version": "2.0.0",
      "model_name": "BoundedFloatTextModel",
      "state": {
       "layout": "IPY_MODEL_04e905a089d54f2d96797b1101771361",
       "max": 1,
       "step": 0.05,
       "style": "IPY_MODEL_98f08b4dc09c465a9375d612f455f544",
       "value": 0.4
      }
     },
     "bad8cb3123cc4f1c8f0b9c93c7de98d9": {
      "model_module": "@jupyter-widgets/base",
      "model_module_version": "2.0.0",
      "model_name": "LayoutModel",
      "state": {
       "width": "50px"
      }
     },
     "bf089ef84bf74b9298099cceb8652343": {
      "model_module": "@jupyter-widgets/base",
      "model_module_version": "2.0.0",
      "model_name": "LayoutModel",
      "state": {
       "width": "50px"
      }
     },
     "c153659b34dc4081a1284e66e633ee0f": {
      "model_module": "@jupyter-widgets/controls",
      "model_module_version": "2.0.0",
      "model_name": "DescriptionStyleModel",
      "state": {
       "description_width": ""
      }
     },
     "ca865e937f2f4a2a819cc76036c2b538": {
      "model_module": "@jupyter-widgets/controls",
      "model_module_version": "2.0.0",
      "model_name": "BoundedFloatTextModel",
      "state": {
       "layout": "IPY_MODEL_1feb6754591f4233b9dfe6d6ca1c8ca4",
       "max": 10,
       "min": 0.1,
       "step": 0.05,
       "style": "IPY_MODEL_d3554aaa6c9349b3a957eeebd5993d1d",
       "value": 0.7
      }
     },
     "cb7059aedb9146faaf67ea9a96ba2425": {
      "model_module": "@jupyter-widgets/base",
      "model_module_version": "2.0.0",
      "model_name": "LayoutModel",
      "state": {}
     },
     "cc3a2d3786ba4df19cfdbb03a26844f0": {
      "model_module": "@jupyter-widgets/controls",
      "model_module_version": "2.0.0",
      "model_name": "LabelStyleModel",
      "state": {
       "description_width": "",
       "font_family": null,
       "font_size": null,
       "font_style": null,
       "font_variant": null,
       "font_weight": null,
       "text_color": null,
       "text_decoration": null
      }
     },
     "ce812a86297946e4987ce487e079ddd3": {
      "model_module": "@jupyter-widgets/controls",
      "model_module_version": "2.0.0",
      "model_name": "HBoxModel",
      "state": {
       "children": [
        "IPY_MODEL_12f3884ffda242ff80e4c04fdabffb09",
        "IPY_MODEL_ca865e937f2f4a2a819cc76036c2b538"
       ],
       "layout": "IPY_MODEL_242d8df6c97d4a19b1fcd23aa6a8f7ee"
      }
     },
     "cebf718da636421c8575a9cc878e29e8": {
      "model_module": "@jupyter-widgets/controls",
      "model_module_version": "2.0.0",
      "model_name": "LabelStyleModel",
      "state": {
       "description_width": "",
       "font_family": null,
       "font_size": null,
       "font_style": null,
       "font_variant": null,
       "font_weight": null,
       "text_color": null,
       "text_decoration": null
      }
     },
     "d048fbd965f54f0883251c1178835c1d": {
      "model_module": "@jupyter-widgets/controls",
      "model_module_version": "2.0.0",
      "model_name": "LabelModel",
      "state": {
       "layout": "IPY_MODEL_70b84756e4fb4f0b81f9f0cd06837fef",
       "style": "IPY_MODEL_4c4ff44c39354892b71582fed8489d71",
       "value": "Std 4:"
      }
     },
     "d141d0cab0b7417c8dffe6f16e41b0df": {
      "model_module": "@jupyter-widgets/controls",
      "model_module_version": "2.0.0",
      "model_name": "LabelModel",
      "state": {
       "layout": "IPY_MODEL_bf089ef84bf74b9298099cceb8652343",
       "style": "IPY_MODEL_64e1ab6cf8cb45c8902e7ebca21b0893",
       "value": "Med 3:"
      }
     },
     "d3554aaa6c9349b3a957eeebd5993d1d": {
      "model_module": "@jupyter-widgets/controls",
      "model_module_version": "2.0.0",
      "model_name": "DescriptionStyleModel",
      "state": {
       "description_width": ""
      }
     },
     "d4b96079bd9445a08371428598c2d6bd": {
      "model_module": "@jupyter-widgets/base",
      "model_module_version": "2.0.0",
      "model_name": "LayoutModel",
      "state": {
       "width": "100px"
      }
     },
     "d50902cb9b53449c859e15e02539f6be": {
      "model_module": "@jupyter-widgets/controls",
      "model_module_version": "2.0.0",
      "model_name": "DescriptionStyleModel",
      "state": {
       "description_width": ""
      }
     },
     "d69953005b8c43408de3ebb494f70c06": {
      "model_module": "@jupyter-widgets/controls",
      "model_module_version": "2.0.0",
      "model_name": "LabelModel",
      "state": {
       "layout": "IPY_MODEL_ae23382541764d4c995c5fc6fbbdcf68",
       "style": "IPY_MODEL_5447da881253467ba88c4cbd7d13b9b4",
       "value": "Std 1:"
      }
     },
     "dd9eb2c9030e415fbb688fcd4a46e586": {
      "model_module": "@jupyter-widgets/controls",
      "model_module_version": "2.0.0",
      "model_name": "HBoxModel",
      "state": {
       "children": [
        "IPY_MODEL_f4de84d559934addb6099f3766c7d817",
        "IPY_MODEL_6abef1ecb63143b7b8b86d2b8cf593ad"
       ],
       "layout": "IPY_MODEL_89db9b7a51704471819081fc36da87cc"
      }
     },
     "e0d052fa4f204536b47b234bf6d63b81": {
      "model_module": "@jupyter-widgets/controls",
      "model_module_version": "2.0.0",
      "model_name": "HBoxModel",
      "state": {
       "children": [
        "IPY_MODEL_fa878d6cdbf4430e85732ab60c77767f",
        "IPY_MODEL_b74de2bda21842b2bcd5537a1c97aa5c"
       ],
       "layout": "IPY_MODEL_3ad6df8e3b2b4d4f8bc9cc6c7559ab84"
      }
     },
     "e0e63e52e68a416eb5564f40e99f0405": {
      "model_module": "@jupyter-widgets/base",
      "model_module_version": "2.0.0",
      "model_name": "LayoutModel",
      "state": {
       "width": "50px"
      }
     },
     "e45dab93ead2458387e5aebc40483070": {
      "model_module": "@jupyter-widgets/controls",
      "model_module_version": "2.0.0",
      "model_name": "HTMLStyleModel",
      "state": {
       "description_width": "",
       "font_size": null,
       "text_color": null
      }
     },
     "e49e41293dba4afa99bcd1faf5404447": {
      "model_module": "@jupyter-widgets/base",
      "model_module_version": "2.0.0",
      "model_name": "LayoutModel",
      "state": {
       "width": "100px"
      }
     },
     "e7ee232464994b99b3b7387f6eb75205": {
      "model_module": "@jupyter-widgets/base",
      "model_module_version": "2.0.0",
      "model_name": "LayoutModel",
      "state": {
       "display": "block",
       "margin": "2px 0"
      }
     },
     "e94c39ad10fc47c28fbceffe773336d8": {
      "model_module": "@jupyter-widgets/base",
      "model_module_version": "2.0.0",
      "model_name": "LayoutModel",
      "state": {
       "width": "auto"
      }
     },
     "edd8ec5c8fe94315bc009323ed4a8357": {
      "model_module": "@jupyter-widgets/base",
      "model_module_version": "2.0.0",
      "model_name": "LayoutModel",
      "state": {
       "width": "100px"
      }
     },
     "f12d977a59f241f1b45b4259558d5ba1": {
      "model_module": "@jupyter-widgets/controls",
      "model_module_version": "2.0.0",
      "model_name": "VBoxModel",
      "state": {
       "children": [
        "IPY_MODEL_dd9eb2c9030e415fbb688fcd4a46e586",
        "IPY_MODEL_312027eb00784dae926520de6201b921",
        "IPY_MODEL_94bde5a562294088bc83441b36b21b2d"
       ],
       "layout": "IPY_MODEL_9bc89a92ecc04e08afb27d80ee360a47"
      }
     },
     "f1660085f64540ed8c4275247fc24ee6": {
      "model_module": "@jupyter-widgets/controls",
      "model_module_version": "2.0.0",
      "model_name": "VBoxModel",
      "state": {
       "children": [
        "IPY_MODEL_059c6fab68324b0b8c5a6ddb97bd36de",
        "IPY_MODEL_5440b9b2c00743ceb8187ddca76b6a07",
        "IPY_MODEL_0fd8cd6072664d198a3e33f81841cf48"
       ],
       "layout": "IPY_MODEL_87db66f3a672433097941b6b628d63fa"
      }
     },
     "f4b4c243ef6f4134b2e58d607f26c76b": {
      "model_module": "@jupyter-widgets/controls",
      "model_module_version": "2.0.0",
      "model_name": "HBoxModel",
      "state": {
       "children": [
        "IPY_MODEL_f8d3e45b8689412394258da5df0b36df",
        "IPY_MODEL_2cce246a4f224f5bb299848ea6c07902"
       ],
       "layout": "IPY_MODEL_3bfb2a7584dd47b9a9b1d099139c495d"
      }
     },
     "f4de84d559934addb6099f3766c7d817": {
      "model_module": "@jupyter-widgets/controls",
      "model_module_version": "2.0.0",
      "model_name": "LabelModel",
      "state": {
       "layout": "IPY_MODEL_119d0aecfecf4c0f9f9da60fc2466c72",
       "style": "IPY_MODEL_1ea81f2164d44d638751ef8d010a26e7",
       "value": "Med 2:"
      }
     },
     "f55ffd8e0eae45989142a1321122615b": {
      "model_module": "@jupyter-widgets/controls",
      "model_module_version": "2.0.0",
      "model_name": "DescriptionStyleModel",
      "state": {
       "description_width": ""
      }
     },
     "f7773f4e414f4127a093b2c213fd1c61": {
      "model_module": "@jupyter-widgets/base",
      "model_module_version": "2.0.0",
      "model_name": "LayoutModel",
      "state": {
       "align_items": "center"
      }
     },
     "f8d3e45b8689412394258da5df0b36df": {
      "model_module": "@jupyter-widgets/controls",
      "model_module_version": "2.0.0",
      "model_name": "VBoxModel",
      "state": {
       "children": [
        "IPY_MODEL_6f28cb3d006e46dab6f71081526119ee",
        "IPY_MODEL_1d2a5d7ce95b4b028f76958978a598a6",
        "IPY_MODEL_18456b8ff9f94b5396059da1dd968301",
        "IPY_MODEL_f12d977a59f241f1b45b4259558d5ba1",
        "IPY_MODEL_fd24e93b3a0541efaaca0057e1a80bc2",
        "IPY_MODEL_f1660085f64540ed8c4275247fc24ee6",
        "IPY_MODEL_3427b07058124015865562a8c300ebcc",
        "IPY_MODEL_467342c2d4b54a2ab583464bf6fb18a8"
       ],
       "layout": "IPY_MODEL_4d2d463e1d674fdd9b327b03643c182a"
      }
     },
     "fa878d6cdbf4430e85732ab60c77767f": {
      "model_module": "@jupyter-widgets/controls",
      "model_module_version": "2.0.0",
      "model_name": "LabelModel",
      "state": {
       "layout": "IPY_MODEL_bad8cb3123cc4f1c8f0b9c93c7de98d9",
       "style": "IPY_MODEL_57c576e01ab2406a815bba90b2ee33c9",
       "value": "Fd 1:"
      }
     },
     "fcd5bb9039544c8fa8cc791c7713332c": {
      "model_module": "@jupyter-widgets/base",
      "model_module_version": "2.0.0",
      "model_name": "LayoutModel",
      "state": {
       "width": "100px"
      }
     },
     "fd24e93b3a0541efaaca0057e1a80bc2": {
      "model_module": "@jupyter-widgets/controls",
      "model_module_version": "2.0.0",
      "model_name": "HTMLModel",
      "state": {
       "layout": "IPY_MODEL_e7ee232464994b99b3b7387f6eb75205",
       "style": "IPY_MODEL_946dd49490fc400ca33bc493e8c4720d",
       "value": "<hr>"
      }
     },
     "fe1538e20e5b4195a81d8333f6ca226e": {
      "model_module": "@jupyter-widgets/base",
      "model_module_version": "2.0.0",
      "model_name": "LayoutModel",
      "state": {
       "width": "100px"
      }
     },
     "fe72bb1e822f4666906b4de66d069b5e": {
      "model_module": "@jupyter-widgets/base",
      "model_module_version": "2.0.0",
      "model_name": "LayoutModel",
      "state": {
       "width": "100px"
      }
     }
    },
    "version_major": 2,
    "version_minor": 0
   }
  }
 },
 "nbformat": 4,
 "nbformat_minor": 5
}
