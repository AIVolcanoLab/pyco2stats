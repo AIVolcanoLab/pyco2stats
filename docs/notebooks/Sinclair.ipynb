{
 "cells": [
  {
   "cell_type": "markdown",
   "id": "b7ff46a0-e563-4797-adb1-10b21d1c8a2a",
   "metadata": {},
   "source": [
    "### Interactive Plot that Implement in Open Source Python the Sinclair, 1974 Method as Reported in Chiodini et al., 1998"
   ]
  },
  {
   "cell_type": "markdown",
   "id": "9fdc87e3-d4b3-4e40-ae36-a3052e81ecc5",
   "metadata": {},
   "source": [
    "The Sinclair method is a statistical procedure by which is possible to partition a dataset of non gaussian polymodal values into two or more log-normal sub-populations starting from a cumulative probability plot of the data. The Sinclair method can be useful to separate the background population from the anomalous populations. In our procedure the data can vary in complexity and the code is able to manage from one to five populations. For each population it is possible to chose the mean, the standard deviation and the fraction with respect to the total of the data, in order to find the best combination of log-normal populations that fit the distribution of the raw data."
   ]
  },
  {
   "cell_type": "code",
   "execution_count": 5,
   "id": "d7404687-41f8-472c-b26f-6be75a7c84a5",
   "metadata": {},
   "outputs": [
    {
     "name": "stdout",
     "output_type": "stream",
     "text": [
      "Requirement already satisfied: pyco2stats in c:\\users\\mbaro\\miniconda3\\envs\\clean_env\\lib\\site-packages (0.1.1)\n",
      "Collecting statsmodels\n",
      "  Using cached statsmodels-0.14.4-cp39-cp39-win_amd64.whl.metadata (9.5 kB)\n",
      "Requirement already satisfied: numpy<3,>=1.22.3 in c:\\users\\mbaro\\miniconda3\\envs\\clean_env\\lib\\site-packages (from statsmodels) (1.26.3)\n",
      "Requirement already satisfied: scipy!=1.9.2,>=1.8 in c:\\users\\mbaro\\miniconda3\\envs\\clean_env\\lib\\site-packages (from statsmodels) (1.13.1)\n",
      "Requirement already satisfied: pandas!=2.1.0,>=1.4 in c:\\users\\mbaro\\miniconda3\\envs\\clean_env\\lib\\site-packages (from statsmodels) (2.2.3)\n",
      "Collecting patsy>=0.5.6 (from statsmodels)\n",
      "  Using cached patsy-1.0.1-py2.py3-none-any.whl.metadata (3.3 kB)\n",
      "Requirement already satisfied: packaging>=21.3 in c:\\users\\mbaro\\miniconda3\\envs\\clean_env\\lib\\site-packages (from statsmodels) (24.2)\n",
      "Requirement already satisfied: python-dateutil>=2.8.2 in c:\\users\\mbaro\\miniconda3\\envs\\clean_env\\lib\\site-packages (from pandas!=2.1.0,>=1.4->statsmodels) (2.9.0.post0)\n",
      "Requirement already satisfied: pytz>=2020.1 in c:\\users\\mbaro\\miniconda3\\envs\\clean_env\\lib\\site-packages (from pandas!=2.1.0,>=1.4->statsmodels) (2024.2)\n",
      "Requirement already satisfied: tzdata>=2022.7 in c:\\users\\mbaro\\miniconda3\\envs\\clean_env\\lib\\site-packages (from pandas!=2.1.0,>=1.4->statsmodels) (2024.2)\n",
      "Requirement already satisfied: six>=1.5 in c:\\users\\mbaro\\miniconda3\\envs\\clean_env\\lib\\site-packages (from python-dateutil>=2.8.2->pandas!=2.1.0,>=1.4->statsmodels) (1.17.0)\n",
      "Using cached statsmodels-0.14.4-cp39-cp39-win_amd64.whl (9.9 MB)\n",
      "Using cached patsy-1.0.1-py2.py3-none-any.whl (232 kB)\n",
      "Installing collected packages: patsy, statsmodels\n",
      "Successfully installed patsy-1.0.1 statsmodels-0.14.4\n"
     ]
    },
    {
     "data": {
      "application/vnd.jupyter.widget-view+json": {
       "model_id": "b0ab3485021e453198c4bec7711703ad",
       "version_major": 2,
       "version_minor": 0
      },
      "text/plain": [
       "VBox(children=(IntSlider(value=3, description='Populations:', max=5, min=1), HBox(children=(FloatSlider(value=…"
      ]
     },
     "metadata": {},
     "output_type": "display_data"
    },
    {
     "data": {
      "application/vnd.jupyter.widget-view+json": {
       "model_id": "59d6afe26b0b4b0b95800563c12b48ce",
       "version_major": 2,
       "version_minor": 0
      },
      "text/plain": [
       "Output()"
      ]
     },
     "metadata": {},
     "output_type": "display_data"
    }
   ],
   "source": [
    "import pyco2stats as PyCO2\n",
    "import pandas as pd\n",
    "import matplotlib.pyplot as plt\n",
    "import numpy as np\n",
    "import ipywidgets as widgets\n",
    "from IPython.display import display, clear_output\n",
    "\n",
    "# Load the dataset\n",
    "my_dataset = pd.read_excel('PYTHONSS.xlsx')\n",
    "my_dataset = my_dataset.dropna(subset=['A'])\n",
    "\n",
    "# Maximum number of populations we want to support\n",
    "max_populations = 5\n",
    "\n",
    "# Initial parameters\n",
    "initial_population_count = 3\n",
    "initial_meds = [2, 1.3, 1, 1.5, 2.2]\n",
    "initial_stds = [0.7, 0.9, 0.45, 0.5, 0.8]\n",
    "initial_fds = [0.3, 0.2, 0.5, 0.4, 0.3]\n",
    "\n",
    "# Create interactive widgets for number of populations and their parameters\n",
    "population_count_slider = widgets.IntSlider(value=initial_population_count, min=1, max=max_populations, step=1, description='Populations:')\n",
    "meds_sliders = [widgets.FloatSlider(value=initial_meds[i], min=0.1, max=10.0, step=0.01, description=f'Med {i+1}:') for i in range(max_populations)]\n",
    "stds_sliders = [widgets.FloatSlider(value=initial_stds[i], min=0.1, max=2.0, step=0.01, description=f'Std {i+1}:') for i in range(max_populations)]\n",
    "fds_sliders = [widgets.FloatSlider(value=initial_fds[i], min=0.0, max=1.0, step=0.01, description=f'Fd {i+1}:') for i in range(max_populations)]\n",
    "\n",
    "# Style the sliders for better appearance and increased spacing\n",
    "for slider in meds_sliders + stds_sliders + fds_sliders:\n",
    "    slider.style.handle_color = 'lightblue'\n",
    "    slider.layout.width = '300px'\n",
    "    slider.layout.margin = '35px 0'  # Adding vertical margin to avoid overlap\n",
    "\n",
    "# Create an output widget to capture the plot\n",
    "output = widgets.Output()\n",
    "\n",
    "# Function to update the visibility of parameter sliders\n",
    "def update_slider_visibility(population_count):\n",
    "    for i in range(max_populations):\n",
    "        if i < population_count:\n",
    "            meds_sliders[i].layout.display = 'block'\n",
    "            stds_sliders[i].layout.display = 'block'\n",
    "            fds_sliders[i].layout.display = 'block'\n",
    "        else:\n",
    "            meds_sliders[i].layout.display = 'none'\n",
    "            stds_sliders[i].layout.display = 'none'\n",
    "            fds_sliders[i].layout.display = 'none'\n",
    "# Function to update the plot based on the widget values\n",
    "def update_plot(*args):\n",
    "    with output:\n",
    "# Clear the output before plotting new graph\n",
    "        clear_output(wait=True)\n",
    "        \n",
    "# Get the current values from the sliders\n",
    "        population_count = population_count_slider.value\n",
    "        meds = [slider.value for slider in meds_sliders[:population_count]]\n",
    "        stds = [slider.value for slider in stds_sliders[:population_count]]\n",
    "        fds = [slider.value for slider in fds_sliders[:population_count]]\n",
    "        \n",
    "# Normalize fds so they sum to 1\n",
    "        fds_sum = sum(fds)\n",
    "        if fds_sum != 0:\n",
    "            fds = [fd / fds_sum for fd in fds]\n",
    "        \n",
    "# Create the figure and axis\n",
    "        fig, ax = plt.subplots(figsize=(10, 6))  # Increase figure size\n",
    "        \n",
    "# Plot raw data with improved style\n",
    "        PyCO2.Visualize.pp_raw_data(my_dataset.A, marker='o', ax=ax, s=20, c='#FF5733', alpha=0.7, label='Raw Data')\n",
    "        # Plot combined population with enhanced styling\n",
    "        PyCO2.Visualize.pp_combined_population(meds, stds, fds, mminy=-1, mmaxy=4, ax=ax, linestyle='-', linewidth=3, color='#3498DB', label='Combined Population')\n",
    "\n",
    "# Plot combined population with enhanced styling\n",
    "        PyCO2.Visualize.pp_single_populations(meds, stds, mminy=-1, mmaxy=4, ax=ax, linestyle='--', linewidth=1)\n",
    "        \n",
    "# Plot percentiles\n",
    "        PyCO2.Visualize.pp_add_percentiles(ax=ax, percentiles='full', linestyle='-.', linewidth=1, color='#2ECC71')\n",
    "        \n",
    "# Adding titles and labels\n",
    "        ax.set_title('Interactive Population Plot', fontsize=16)\n",
    "        ax.set_xlabel('Data Points', fontsize=14)\n",
    "        ax.set_ylabel('Values', fontsize=14)\n",
    "        \n",
    "# Adding legend and grid\n",
    "        ax.legend(loc='best', fontsize=12)\n",
    "        ax.grid(True, linestyle='--', alpha=0.6)\n",
    "        \n",
    "# Show the plot\n",
    "        plt.show()\n",
    "# Connect the update functions to the widgets\n",
    "population_count_slider.observe(lambda change: update_slider_visibility(change['new']), names='value')\n",
    "population_count_slider.observe(update_plot, names='value')\n",
    "\n",
    "for slider in meds_sliders + stds_sliders + fds_sliders:\n",
    "    slider.observe(update_plot, names='value')\n",
    "\n",
    "# Layout the widgets using HBox and VBox\n",
    "parameter_widgets = []\n",
    "for i in range(max_populations):\n",
    "    row = widgets.HBox([meds_sliders[i], stds_sliders[i], fds_sliders[i]])\n",
    "    parameter_widgets.append(row)\n",
    "\n",
    "# Combine the widgets into a VBox for better layout\n",
    "widgets_box = widgets.VBox([population_count_slider] + parameter_widgets, layout=widgets.Layout(margin='10px 0'))\n",
    "\n",
    "# Display the widgets and the output cell for the plot\n",
    "display(widgets_box)\n",
    "display(output)  # Show the output widget\n",
    "\n",
    "# Initialize slider visibility and plot\n",
    "update_slider_visibility(initial_population_count)\n",
    "update_plot()  # Initial plot rendering\n"
   ]
  }
 ],
 "metadata": {
  "kernelspec": {
   "display_name": "Python 3 (ipykernel)",
   "language": "python",
   "name": "python3"
  },
  "language_info": {
   "codemirror_mode": {
    "name": "ipython",
    "version": 3
   },
   "file_extension": ".py",
   "mimetype": "text/x-python",
   "name": "python",
   "nbconvert_exporter": "python",
   "pygments_lexer": "ipython3",
   "version": "3.9.21"
  }
 },
 "nbformat": 4,
 "nbformat_minor": 5
}
