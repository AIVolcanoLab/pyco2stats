{
 "cells": [
  {
   "cell_type": "markdown",
   "id": "bd89fd25-7c35-4120-9dc9-180299dd779f",
   "metadata": {},
   "source": [
    "# Interactive SInclair, click [here](https://mybinder.org/v2/gh/AIVolcanoLab/pyco2stats/a5150c556a72d6e8a077a1e9c8137ba01fe47a73?urlpath=lab%2Ftree%2Fdocs%2Fnotebooks%2FSinclair_Method_rev_1.ipynb)"
   ]
  }
 ],
 "metadata": {
  "kernelspec": {
   "display_name": "Python 3 (ipykernel)",
   "language": "python",
   "name": "python3"
  },
  "language_info": {
   "codemirror_mode": {
    "name": "ipython",
    "version": 3
   },
   "file_extension": ".py",
   "mimetype": "text/x-python",
   "name": "python",
   "nbconvert_exporter": "python",
   "pygments_lexer": "ipython3",
   "version": "3.10.18"
  }
 },
 "nbformat": 4,
 "nbformat_minor": 5
}
